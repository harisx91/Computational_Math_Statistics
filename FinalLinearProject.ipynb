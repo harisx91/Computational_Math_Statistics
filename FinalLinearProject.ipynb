{
 "cells": [
  {
   "cell_type": "markdown",
   "metadata": {},
   "source": [
    "## Haris Sumra\n",
    "## Final Project\n"
   ]
  },
  {
   "cell_type": "code",
   "execution_count": 51,
   "metadata": {},
   "outputs": [],
   "source": [
    "## Import Dependencies\n",
    "import numpy as np\n",
    "from numpy import linalg"
   ]
  },
  {
   "cell_type": "markdown",
   "metadata": {},
   "source": [
    "### Following are problems from Homework 13"
   ]
  },
  {
   "cell_type": "markdown",
   "metadata": {},
   "source": [
    "### Question-1 in Homework#13 using numpy functions: "
   ]
  },
  {
   "cell_type": "code",
   "execution_count": 54,
   "metadata": {},
   "outputs": [
    {
     "data": {
      "text/plain": [
       "3.0000000000000004"
      ]
     },
     "execution_count": 54,
     "metadata": {},
     "output_type": "execute_result"
    }
   ],
   "source": [
    "a = np.array([[1, -4], [0, 3]])\n",
    ">>> np.linalg.det(a)"
   ]
  },
  {
   "cell_type": "markdown",
   "metadata": {},
   "source": [
    "### Question-5 in Homework#13 using numpy functions:"
   ]
  },
  {
   "cell_type": "code",
   "execution_count": 55,
   "metadata": {},
   "outputs": [
    {
     "data": {
      "text/plain": [
       "-23.00000000000001"
      ]
     },
     "execution_count": 55,
     "metadata": {},
     "output_type": "execute_result"
    }
   ],
   "source": [
    "b = np.array([[2, 3, -4], [4, 0, 5],[5, 1, 6] ])\n",
    ">>> np.linalg.det(b)"
   ]
  },
  {
   "cell_type": "markdown",
   "metadata": {},
   "source": [
    "### Question-7 in Homework#13 using numpy functions:"
   ]
  },
  {
   "cell_type": "code",
   "execution_count": 44,
   "metadata": {},
   "outputs": [
    {
     "data": {
      "text/plain": [
       "10.000000000000007"
      ]
     },
     "execution_count": 44,
     "metadata": {},
     "output_type": "execute_result"
    }
   ],
   "source": [
    "c = np.array([[6, 0, 0, 5], [1, 7, 2,  -5],[2, 0, 0, 0], [8, 3, 1, 8] ])\n",
    ">>> np.linalg.det(c)"
   ]
  },
  {
   "cell_type": "markdown",
   "metadata": {},
   "source": [
    "### Following are problems from Homework 14"
   ]
  },
  {
   "cell_type": "markdown",
   "metadata": {},
   "source": [
    "### Question-1 in Homework#14 using numpy functions:"
   ]
  },
  {
   "cell_type": "code",
   "execution_count": 56,
   "metadata": {},
   "outputs": [
    {
     "name": "stdout",
     "output_type": "stream",
     "text": [
      "x=1.7 y=-0.7\n"
     ]
    }
   ],
   "source": [
    "# a simple implementation using numpy\n",
    "A=[[4, 1],[5, 2]]\n",
    "B=[6, 7]\n",
    "C=[[1, 1], [5, 2]]\n",
    "X=[]\n",
    "for i in range(0,len(B)):\n",
    "    for j in range(0,len(B)):\n",
    "        C[j][i]=B[j]\n",
    "        if i>0:\n",
    "            C[j][i-1]=A[j][i-1]\n",
    "    X.append(round(linalg.det(C)/linalg.det(A),1))\n",
    " \n",
    "print('x=%s'%X[0],'y=%s'%X[1])"
   ]
  },
  {
   "cell_type": "markdown",
   "metadata": {},
   "source": [
    "### Question-4 in Homework#14 using numpy functions"
   ]
  },
  {
   "cell_type": "code",
   "execution_count": 57,
   "metadata": {},
   "outputs": [
    {
     "name": "stdout",
     "output_type": "stream",
     "text": [
      "x=-1.5 y=0.5\n"
     ]
    }
   ],
   "source": [
    "# a simple implementation using numpy\n",
    "A=[[-5, 3],[3, -1]]\n",
    "B=[9, -5]\n",
    "C=[[-5, 3], [3, -1]]\n",
    "X=[]\n",
    "for i in range(0,len(B)):\n",
    "    for j in range(0,len(B)):\n",
    "        C[j][i]=B[j]\n",
    "        if i>0:\n",
    "            C[j][i-1]=A[j][i-1]\n",
    "    X.append(round(linalg.det(C)/linalg.det(A),1))\n",
    " \n",
    "print('x=%s'%X[0],'y=%s'%X[1])"
   ]
  },
  {
   "cell_type": "markdown",
   "metadata": {},
   "source": [
    "### Questions-5 in Homework#14 using numpy functions"
   ]
  },
  {
   "cell_type": "code",
   "execution_count": 59,
   "metadata": {},
   "outputs": [
    {
     "name": "stdout",
     "output_type": "stream",
     "text": [
      "x=1.5 y=4.0 z=-3.5\n"
     ]
    }
   ],
   "source": [
    "question_5 = [[2,1,0],[-3,0,1],[0,1,2]]\n",
    "F = np.array(question_5)\n",
    "H = np.array([7,-8,-3])\n",
    "I = np.array(question_5)\n",
    "X = []\n",
    "for i in range(0,len(H)):\n",
    "    for j in range(0,len(H)):\n",
    "        I[j][i]=H[j]\n",
    "        if i>0:\n",
    "            I[j][i-1]=F[j][i-1]\n",
    "    X.append(round(np.linalg.det(I)/np.linalg.det(F),1))\n",
    " \n",
    "print('x=%s'%X[0],'y=%s'%X[1], 'z=%s'%X[2])"
   ]
  },
  {
   "cell_type": "markdown",
   "metadata": {},
   "source": [
    "### Extra: Solved 4x4 Linear Algebra Problem"
   ]
  },
  {
   "cell_type": "code",
   "execution_count": 50,
   "metadata": {},
   "outputs": [
    {
     "name": "stdout",
     "output_type": "stream",
     "text": [
      "w=2.0 x=-12.0 y=-4.0 z=1.0\n"
     ]
    }
   ],
   "source": [
    "### Extra Problems I attempted to solve for 4x4 Linear Algebra \n",
    " \n",
    "A=[[2,-1,5,1],[3,2,2,-6],[1,3,3,-1],[5,-2,-3,3]]\n",
    "B=[-3,-32,-47,49]\n",
    "C=[[2,-1,5,1],[3,2,2,-6],[1,3,3,-1],[5,-2,-3,3]]\n",
    "X=[]\n",
    "for i in range(0,len(B)):\n",
    "    for j in range(0,len(B)):\n",
    "        C[j][i]=B[j]\n",
    "        if i>0:\n",
    "            C[j][i-1]=A[j][i-1]\n",
    "    X.append(round(linalg.det(C)/linalg.det(A),1))\n",
    " \n",
    "print('w=%s'%X[0],'x=%s'%X[1],'y=%s'%X[2],'z=%s'%X[3])"
   ]
  },
  {
   "cell_type": "markdown",
   "metadata": {},
   "source": [
    "## All the final answers were verified with the manual problem solutions, and I was able to get the same answers as the one in python. "
   ]
  },
  {
   "cell_type": "code",
   "execution_count": null,
   "metadata": {},
   "outputs": [],
   "source": []
  }
 ],
 "metadata": {
  "kernelspec": {
   "display_name": "Python 3",
   "language": "python",
   "name": "python3"
  },
  "language_info": {
   "codemirror_mode": {
    "name": "ipython",
    "version": 3
   },
   "file_extension": ".py",
   "mimetype": "text/x-python",
   "name": "python",
   "nbconvert_exporter": "python",
   "pygments_lexer": "ipython3",
   "version": "3.6.5"
  }
 },
 "nbformat": 4,
 "nbformat_minor": 4
}
